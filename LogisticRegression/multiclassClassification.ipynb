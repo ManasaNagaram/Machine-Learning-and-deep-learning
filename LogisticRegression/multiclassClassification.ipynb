{
 "cells": [
  {
   "cell_type": "markdown",
   "metadata": {},
   "source": [
    "### Logistic regression for Multi-class classification"
   ]
  },
  {
   "cell_type": "code",
   "execution_count": 1,
   "metadata": {},
   "outputs": [],
   "source": [
    "import numpy as np\n",
    "import pandas as pd \n",
    "import matplotlib.pyplot as plt\n",
    "import seaborn as sns\n",
    "%matplotlib inline"
   ]
  },
  {
   "cell_type": "code",
   "execution_count": 2,
   "metadata": {},
   "outputs": [],
   "source": [
    "from sklearn.datasets import make_classification"
   ]
  },
  {
   "cell_type": "code",
   "execution_count": 4,
   "metadata": {},
   "outputs": [],
   "source": [
    "X,y = make_classification(n_samples=1000,n_features=10,n_informative=3,n_classes=3,random_state=3)"
   ]
  },
  {
   "cell_type": "code",
   "execution_count": 5,
   "metadata": {},
   "outputs": [
    {
     "data": {
      "text/plain": [
       "array([[ 4.00242335e-01,  1.34928318e+00,  8.32703584e-01, ...,\n",
       "        -1.00145737e+00,  1.03560933e+00, -3.44120427e-01],\n",
       "       [-1.62069709e-01, -2.41889632e+00,  1.92172904e+00, ...,\n",
       "         5.33377115e-01, -1.24191386e+00,  2.26952694e+00],\n",
       "       [ 2.33921755e-02, -1.50496206e+00, -8.51209664e-01, ...,\n",
       "        -7.41404923e-04, -5.93319299e-01, -8.20404882e-01],\n",
       "       ...,\n",
       "       [ 1.75921151e+00, -1.03981903e+00,  1.90116900e+00, ...,\n",
       "        -8.81322936e-01,  9.91771137e-01,  2.16839543e-01],\n",
       "       [ 1.36657236e+00,  1.37437588e+00, -1.15810684e+00, ...,\n",
       "         8.56463920e-01, -8.43710393e-01, -3.09129582e-01],\n",
       "       [ 1.23614610e+00, -1.67408236e+00,  1.59440617e+00, ...,\n",
       "        -6.36733799e-01, -4.02351211e-01,  2.46406800e-01]])"
      ]
     },
     "execution_count": 5,
     "metadata": {},
     "output_type": "execute_result"
    }
   ],
   "source": [
    "X"
   ]
  },
  {
   "cell_type": "code",
   "execution_count": null,
   "metadata": {},
   "outputs": [],
   "source": []
  },
  {
   "cell_type": "code",
   "execution_count": null,
   "metadata": {},
   "outputs": [],
   "source": []
  },
  {
   "cell_type": "code",
   "execution_count": null,
   "metadata": {},
   "outputs": [],
   "source": []
  },
  {
   "cell_type": "code",
   "execution_count": null,
   "metadata": {},
   "outputs": [],
   "source": []
  }
 ],
 "metadata": {
  "kernelspec": {
   "display_name": "base",
   "language": "python",
   "name": "python3"
  },
  "language_info": {
   "codemirror_mode": {
    "name": "ipython",
    "version": 3
   },
   "file_extension": ".py",
   "mimetype": "text/x-python",
   "name": "python",
   "nbconvert_exporter": "python",
   "pygments_lexer": "ipython3",
   "version": "3.12.7"
  }
 },
 "nbformat": 4,
 "nbformat_minor": 2
}
